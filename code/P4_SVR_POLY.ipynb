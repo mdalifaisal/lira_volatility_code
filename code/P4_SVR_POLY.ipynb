{
 "cells": [
  {
   "cell_type": "code",
   "execution_count": 10,
   "metadata": {},
   "outputs": [],
   "source": [
    "# load libraries\n",
    "from arch import arch_model\n",
    "import pandas as pd\n",
    "from scipy import stats\n",
    "from scipy.ndimage.interpolation import shift\n",
    "import numpy as np\n",
    "from sklearn.svm import NuSVR\n",
    "from sklearn.model_selection import train_test_split\n",
    "import matplotlib.pyplot as plt\n",
    "import random\n",
    "from sklearn.model_selection import cross_val_score\n",
    "from sklearn.model_selection import GridSearchCV\n",
    "from sklearn.preprocessing import StandardScaler\n",
    "from sklearn.preprocessing import MinMaxScaler\n",
    "import math\n",
    "import statistics\n",
    "import statsmodels.api as sm\n",
    "from statsmodels.graphics.tsaplots import plot_acf, plot_pacf\n",
    "from scipy.stats import norm\n",
    "import matplotlib.colors as mcolors\n",
    "import seaborn as sns"
   ]
  },
  {
   "cell_type": "code",
   "execution_count": 11,
   "metadata": {},
   "outputs": [],
   "source": [
    "## load data and prepare output vector (target 'y')\n",
    "df = pd.read_excel(\"regression_data.xlsx\")\n",
    "returns = df['log_ret']*100\n",
    "y2 = returns**2\n",
    "sp_sigma = pd.Series(y2)\n",
    "sp_sigma = sp_sigma.rolling(window = 5).mean()\n",
    "index1 = [0]\n",
    "s_sigma = np.array(sp_sigma[4:])\n",
    "s_sigma = np.delete(s_sigma,index1)\n",
    "target_y = s_sigma[253:]"
   ]
  },
  {
   "cell_type": "code",
   "execution_count": 12,
   "metadata": {},
   "outputs": [],
   "source": [
    "## prepare input vector\n",
    "garch = df['garch'][258:]\n",
    "avgarch = df['avgarch'][258:]\n",
    "gjrgarch = df['gjrgarch'][258:]\n",
    "tgarch = df['tgarch'][258:]\n",
    "ngarch = df['ngarch'][258:]\n",
    "nagarch = df['nagarch'][258:]\n",
    "aparch = df['aparch'][258:]\n",
    "allgarch = df['allgarch'][258:]\n",
    "egarch = df['egarch'][258:]\n",
    "norm = df['norm'][258:]\n",
    "snorm = df['snorm'][258:]\n",
    "std = df['std'][258:]\n",
    "sstd = df['sstd'][258:]\n",
    "ast = df['ast'][258:]\n",
    "ast1 = df['ast1'][258:]\n",
    "ald = df['ald'][258:]\n",
    "har = df['har'][258:]\n",
    "lhar = df['lhar'][258:]\n",
    "harj = df['harj'][258:]\n",
    "harq = df['harq'][258:]\n",
    "char = df['char'][258:]\n",
    "charq = df['charq'][258:]\n",
    "sv = df['sv'][258:]\n",
    "svt = df['svt'][258:]\n",
    "svl = df['svl'][258:]\n",
    "svtl = df['svtl'][258:]\n",
    "cgarchtotal = df['cgarchtotal'][258:]\n",
    "midastotal = df['midastotal'][258:]\n",
    "carr = df['carr'][258:]\n",
    "ccarrtotal = df['ccarrtotal'][258:]"
   ]
  },
  {
   "cell_type": "code",
   "execution_count": 13,
   "metadata": {},
   "outputs": [],
   "source": [
    "## features_X will be a transpose vector of input variables\n",
    "## target_y will be the dependent variable\n",
    "features_X = np.vstack( (garch,avgarch,gjrgarch,tgarch,ngarch,nagarch,aparch,allgarch,egarch,norm,snorm,std,\n",
    "                        sstd,ast,ast1,ald,har,lhar,harj,harq,char,charq,sv,svt,svl,svtl,cgarchtotal,midastotal,carr,\n",
    "                         ccarrtotal) ).T\n",
    "## split data for training and testing  \n",
    "X_train, X_test, y_train, y_test= train_test_split(features_X, target_y, test_size = 0.5, shuffle = False)"
   ]
  },
  {
   "cell_type": "code",
   "execution_count": 14,
   "metadata": {},
   "outputs": [],
   "source": [
    "# normalize data\n",
    "sc_X = MinMaxScaler()\n",
    "X_train = sc_X.fit_transform(X_train)\n",
    "y_train = y_train.reshape(-1,1)\n",
    "sc_y = MinMaxScaler()\n",
    "y_train = sc_y.fit_transform(y_train)"
   ]
  },
  {
   "cell_type": "code",
   "execution_count": 15,
   "metadata": {},
   "outputs": [
    {
     "name": "stderr",
     "output_type": "stream",
     "text": [
      "c:\\users\\public\\anaconda3\\lib\\site-packages\\sklearn\\model_selection\\_search.py:813: DeprecationWarning: The default of the `iid` parameter will change from True to False in version 0.22 and will be removed in 0.24. This will change numeric results when test-set sizes are unequal.\n",
      "  DeprecationWarning)\n",
      "c:\\users\\public\\anaconda3\\lib\\site-packages\\sklearn\\utils\\validation.py:724: DataConversionWarning: A column-vector y was passed when a 1d array was expected. Please change the shape of y to (n_samples, ), for example using ravel().\n",
      "  y = column_or_1d(y, warn=True)\n"
     ]
    }
   ],
   "source": [
    "# gridsearch different values of nu and pick the best for training the complete sample\n",
    "# linear kernel\n",
    "params = [\n",
    "    {\n",
    "        'nu': np.arange(0.05, 1.0, 0.05),\n",
    "        'gamma': ['auto'],\n",
    "        'kernel': ['poly'],\n",
    "        'C':[10]\n",
    "    }\n",
    "]\n",
    "svr = GridSearchCV(NuSVR(C = 10.0, kernel = 'poly'), param_grid = params, n_jobs = -1, cv = 8, scoring = 'r2')\n",
    "model = svr.fit(X_train,y_train)"
   ]
  },
  {
   "cell_type": "code",
   "execution_count": 16,
   "metadata": {},
   "outputs": [],
   "source": [
    "#svr.best_estimator_\n",
    "#model.best_score_\n",
    "#svr.get_params()\n",
    "#model.cv_results_\n",
    "pd.concat([pd.DataFrame(model.cv_results_[\"params\"]),pd.DataFrame(model.cv_results_[\"mean_test_score\"],\n",
    "                                                                        columns=[\"R2\"])],axis=1)\n",
    "pvt = pd.pivot_table(pd.DataFrame(model.cv_results_),\n",
    "    values='mean_test_score', index=np.round(np.arange(0.05, 1.0, 0.05),2), columns='param_nu')"
   ]
  },
  {
   "cell_type": "code",
   "execution_count": 19,
   "metadata": {},
   "outputs": [
    {
     "data": {
      "image/png": "[encoded data removed]",
      "text/plain": [
       "<Figure size 1080x432 with 2 Axes>"
      ]
     },
     "metadata": {},
     "output_type": "display_data"
    }
   ],
   "source": [
    "plt.figure(figsize=(15,6))\n",
    "sns.set_style(\"darkgrid\")\n",
    "cd = sns.color_palette(\"ch:start=.2,rot=-.3\")\n",
    "\n",
    "ax = sns.heatmap(pvt, annot=True, cmap=cd,vmin=-3, vmax=1, fmt='.4g', \n",
    "                 linecolor=\"black\",xticklabels=False, yticklabels=True)\n",
    "ax.set(xlabel=None)\n",
    "plt.savefig('fig9a.pdf')  "
   ]
  },
  {
   "cell_type": "code",
   "execution_count": 20,
   "metadata": {},
   "outputs": [
    {
     "name": "stdout",
     "output_type": "stream",
     "text": [
      "SVR Train R^2 Score: 0.1645\n"
     ]
    },
    {
     "name": "stderr",
     "output_type": "stream",
     "text": [
      "c:\\users\\public\\anaconda3\\lib\\site-packages\\sklearn\\utils\\validation.py:724: DataConversionWarning: A column-vector y was passed when a 1d array was expected. Please change the shape of y to (n_samples, ), for example using ravel().\n",
      "  y = column_or_1d(y, warn=True)\n"
     ]
    }
   ],
   "source": [
    "params = [\n",
    "    {\n",
    "        'nu': [0.8],\n",
    "        'gamma': ['auto'],\n",
    "        'kernel': ['poly'],\n",
    "        'C':[10]\n",
    "    }\n",
    "]\n",
    "svr = GridSearchCV(NuSVR(C = 10.0, kernel = 'poly'), param_grid = params, n_jobs = -1, cv = 8, scoring = 'r2')\n",
    "model = svr.fit(X_train,y_train)\n",
    "train_pred = model.predict(X_train)\n",
    "train_pred= train_pred.reshape(1,-1)\n",
    "correlation_matrix = np. corrcoef(y2[258:1551], sc_y.inverse_transform(train_pred))\n",
    "correlation_xy = correlation_matrix[0,1]\n",
    "r_squared_train = correlation_xy**2\n",
    "print(\"SVR Train R^2 Score: %.4f\"\n",
    "      % r_squared_train)"
   ]
  },
  {
   "cell_type": "code",
   "execution_count": 21,
   "metadata": {
    "scrolled": true
   },
   "outputs": [
    {
     "name": "stdout",
     "output_type": "stream",
     "text": [
      "SVR Test R^2 Score: 0.0037\n"
     ]
    }
   ],
   "source": [
    "test_pred = model.predict(X_test)\n",
    "test_pred= test_pred.reshape(1,-1)\n",
    "correlation_matrix = np. corrcoef(y2[1551:], sc_y.inverse_transform(test_pred))\n",
    "correlation_xy = correlation_matrix[0,1]\n",
    "r_squared_train = correlation_xy**2\n",
    "print(\"SVR Test R^2 Score: %.4f\"\n",
    "      % r_squared_train)"
   ]
  },
  {
   "cell_type": "code",
   "execution_count": null,
   "metadata": {},
   "outputs": [],
   "source": []
  },
  {
   "cell_type": "code",
   "execution_count": null,
   "metadata": {},
   "outputs": [],
   "source": []
  },
  {
   "cell_type": "code",
   "execution_count": null,
   "metadata": {},
   "outputs": [],
   "source": []
  },
  {
   "cell_type": "code",
   "execution_count": 22,
   "metadata": {},
   "outputs": [],
   "source": [
    "## features_X will be a transpose vector of input variables\n",
    "## target_y will be the dependent variable\n",
    "target_y = df['rv_15'][258:]\n",
    "features_X = np.vstack( (garch,avgarch,gjrgarch,tgarch,ngarch,nagarch,aparch,allgarch,egarch,norm,snorm,std,\n",
    "                        sstd,ast,ast1,ald,har,lhar,harj,harq,char,charq,sv,svt,svl,svtl,cgarchtotal,midastotal,carr,\n",
    "                         ccarrtotal) ).T\n",
    "## split data for training and testing  \n",
    "X_train, X_test, y_train, y_test= train_test_split(features_X, target_y, test_size = 0.5, shuffle = False)"
   ]
  },
  {
   "cell_type": "code",
   "execution_count": 23,
   "metadata": {},
   "outputs": [],
   "source": [
    "# normalize data\n",
    "sc_X = MinMaxScaler()\n",
    "X_train = sc_X.fit_transform(X_train)\n",
    "y_train = y_train.values.reshape(-1,1)\n",
    "sc_y = MinMaxScaler()\n",
    "y_train = sc_y.fit_transform(y_train)"
   ]
  },
  {
   "cell_type": "code",
   "execution_count": 24,
   "metadata": {},
   "outputs": [
    {
     "name": "stderr",
     "output_type": "stream",
     "text": [
      "c:\\users\\public\\anaconda3\\lib\\site-packages\\sklearn\\model_selection\\_search.py:813: DeprecationWarning: The default of the `iid` parameter will change from True to False in version 0.22 and will be removed in 0.24. This will change numeric results when test-set sizes are unequal.\n",
      "  DeprecationWarning)\n",
      "c:\\users\\public\\anaconda3\\lib\\site-packages\\sklearn\\utils\\validation.py:724: DataConversionWarning: A column-vector y was passed when a 1d array was expected. Please change the shape of y to (n_samples, ), for example using ravel().\n",
      "  y = column_or_1d(y, warn=True)\n"
     ]
    }
   ],
   "source": [
    "# gridsearch different values of nu and pick the best for training the complete sample\n",
    "# linear kernel\n",
    "params = [\n",
    "    {\n",
    "        'nu': np.arange(0.05, 1.0, 0.05),\n",
    "        'gamma': ['auto'],\n",
    "        'kernel': ['poly'],\n",
    "        'C':[10]\n",
    "    }\n",
    "]\n",
    "svr = GridSearchCV(NuSVR(C = 10.0, kernel = 'poly'), param_grid = params, n_jobs = -1, cv = 8, scoring = 'r2')\n",
    "model = svr.fit(X_train,y_train)"
   ]
  },
  {
   "cell_type": "code",
   "execution_count": 25,
   "metadata": {},
   "outputs": [],
   "source": [
    "#svr.best_estimator_\n",
    "#model.best_score_\n",
    "#svr.get_params()\n",
    "#model.cv_results_\n",
    "pd.concat([pd.DataFrame(model.cv_results_[\"params\"]),pd.DataFrame(model.cv_results_[\"mean_test_score\"],\n",
    "                                                                        columns=[\"R2\"])],axis=1)\n",
    "pvt = pd.pivot_table(pd.DataFrame(model.cv_results_),\n",
    "    values='mean_test_score', index=np.round(np.arange(0.05, 1.0, 0.05),2), columns='param_nu')"
   ]
  },
  {
   "cell_type": "code",
   "execution_count": 28,
   "metadata": {},
   "outputs": [
    {
     "data": {
      "image/png": "[encoded data removed]",
      "text/plain": [
       "<Figure size 1080x432 with 2 Axes>"
      ]
     },
     "metadata": {},
     "output_type": "display_data"
    }
   ],
   "source": [
    "plt.figure(figsize=(15,6))\n",
    "sns.set_style(\"darkgrid\")\n",
    "cd = sns.color_palette(\"ch:start=.2,rot=-.3\")\n",
    "ax = sns.heatmap(pvt, annot=True, cmap=cd,vmin=-20, vmax=0.2, fmt='.3g', \n",
    "                 linecolor=\"black\",xticklabels=False, yticklabels=True)\n",
    "ax.set(xlabel=None)\n",
    "plt.savefig('fig9b.pdf')"
   ]
  },
  {
   "cell_type": "code",
   "execution_count": 29,
   "metadata": {},
   "outputs": [
    {
     "name": "stdout",
     "output_type": "stream",
     "text": [
      "SVR Train R^2 Score: 0.4480\n"
     ]
    },
    {
     "name": "stderr",
     "output_type": "stream",
     "text": [
      "c:\\users\\public\\anaconda3\\lib\\site-packages\\sklearn\\utils\\validation.py:724: DataConversionWarning: A column-vector y was passed when a 1d array was expected. Please change the shape of y to (n_samples, ), for example using ravel().\n",
      "  y = column_or_1d(y, warn=True)\n"
     ]
    }
   ],
   "source": [
    "params = [\n",
    "    {\n",
    "        'nu': [0.95],\n",
    "        'gamma': ['auto'],\n",
    "        'kernel': ['poly'],\n",
    "        'C':[10]\n",
    "    }\n",
    "]\n",
    "svr = GridSearchCV(NuSVR(C = 10.0, kernel = 'poly'), param_grid = params, n_jobs = -1, cv = 8, scoring = 'r2')\n",
    "model = svr.fit(X_train,y_train)\n",
    "train_pred = model.predict(X_train)\n",
    "train_pred= train_pred.reshape(1,-1)\n",
    "correlation_matrix = np. corrcoef(y2[258:1551], sc_y.inverse_transform(train_pred))\n",
    "correlation_xy = correlation_matrix[0,1]\n",
    "r_squared_train = correlation_xy**2\n",
    "print(\"SVR Train R^2 Score: %.4f\"\n",
    "      % r_squared_train)"
   ]
  },
  {
   "cell_type": "code",
   "execution_count": 30,
   "metadata": {
    "scrolled": true
   },
   "outputs": [
    {
     "name": "stdout",
     "output_type": "stream",
     "text": [
      "SVR Test R^2 Score: 0.0048\n"
     ]
    }
   ],
   "source": [
    "test_pred = model.predict(X_test)\n",
    "test_pred= test_pred.reshape(1,-1)\n",
    "correlation_matrix = np. corrcoef(y2[1551:], sc_y.inverse_transform(test_pred))\n",
    "correlation_xy = correlation_matrix[0,1]\n",
    "r_squared_train = correlation_xy**2\n",
    "print(\"SVR Test R^2 Score: %.4f\"\n",
    "      % r_squared_train)"
   ]
  },
  {
   "cell_type": "code",
   "execution_count": null,
   "metadata": {},
   "outputs": [],
   "source": []
  },
  {
   "cell_type": "code",
   "execution_count": null,
   "metadata": {},
   "outputs": [],
   "source": []
  },
  {
   "cell_type": "code",
   "execution_count": null,
   "metadata": {},
   "outputs": [],
   "source": []
  },
  {
   "cell_type": "code",
   "execution_count": 31,
   "metadata": {},
   "outputs": [],
   "source": [
    "## features_X will be a transpose vector of input variables\n",
    "## target_y will be the dependent variable\n",
    "target_y = df['range_ret'][258:]\n",
    "features_X = np.vstack( (garch,avgarch,gjrgarch,tgarch,ngarch,nagarch,aparch,allgarch,egarch,norm,snorm,std,\n",
    "                        sstd,ast,ast1,ald,har,lhar,harj,harq,char,charq,sv,svt,svl,svtl,cgarchtotal,midastotal,carr,\n",
    "                         ccarrtotal) ).T\n",
    "## split data for training and testing  \n",
    "X_train, X_test, y_train, y_test= train_test_split(features_X, target_y, test_size = 0.5, shuffle = False)"
   ]
  },
  {
   "cell_type": "code",
   "execution_count": 32,
   "metadata": {},
   "outputs": [],
   "source": [
    "# normalize data\n",
    "sc_X = MinMaxScaler()\n",
    "X_train = sc_X.fit_transform(X_train)\n",
    "y_train = y_train.values.reshape(-1,1)\n",
    "sc_y = MinMaxScaler()\n",
    "y_train = sc_y.fit_transform(y_train)"
   ]
  },
  {
   "cell_type": "code",
   "execution_count": 33,
   "metadata": {},
   "outputs": [
    {
     "name": "stderr",
     "output_type": "stream",
     "text": [
      "c:\\users\\public\\anaconda3\\lib\\site-packages\\sklearn\\model_selection\\_search.py:813: DeprecationWarning: The default of the `iid` parameter will change from True to False in version 0.22 and will be removed in 0.24. This will change numeric results when test-set sizes are unequal.\n",
      "  DeprecationWarning)\n",
      "c:\\users\\public\\anaconda3\\lib\\site-packages\\sklearn\\utils\\validation.py:724: DataConversionWarning: A column-vector y was passed when a 1d array was expected. Please change the shape of y to (n_samples, ), for example using ravel().\n",
      "  y = column_or_1d(y, warn=True)\n"
     ]
    }
   ],
   "source": [
    "# gridsearch different values of nu and pick the best for training the complete sample\n",
    "# linear kernel\n",
    "params = [\n",
    "    {\n",
    "        'nu': np.arange(0.05, 1.0, 0.05),\n",
    "        'gamma': ['auto'],\n",
    "        'kernel': ['poly'],\n",
    "        'C':[10]\n",
    "    }\n",
    "]\n",
    "svr = GridSearchCV(NuSVR(C = 10.0, kernel = 'poly'), param_grid = params, n_jobs = -1, cv = 8, scoring = 'r2')\n",
    "model = svr.fit(X_train,y_train)"
   ]
  },
  {
   "cell_type": "code",
   "execution_count": 34,
   "metadata": {},
   "outputs": [],
   "source": [
    "#svr.best_estimator_\n",
    "#model.best_score_\n",
    "#svr.get_params()\n",
    "#model.cv_results_\n",
    "pd.concat([pd.DataFrame(model.cv_results_[\"params\"]),pd.DataFrame(model.cv_results_[\"mean_test_score\"],\n",
    "                                                                        columns=[\"R2\"])],axis=1)\n",
    "pvt = pd.pivot_table(pd.DataFrame(model.cv_results_),\n",
    "    values='mean_test_score', index=np.round(np.arange(0.05, 1.0, 0.05),2), columns='param_nu')"
   ]
  },
  {
   "cell_type": "code",
   "execution_count": 38,
   "metadata": {},
   "outputs": [
    {
     "data": {
      "image/png": "[encoded data removed]",
      "text/plain": [
       "<Figure size 1080x432 with 2 Axes>"
      ]
     },
     "metadata": {},
     "output_type": "display_data"
    }
   ],
   "source": [
    "plt.figure(figsize=(15,6))\n",
    "sns.set_style(\"darkgrid\")\n",
    "cd = sns.color_palette(\"ch:start=.2,rot=-.3\")\n",
    "ax = sns.heatmap(pvt, annot=True, cmap=cd,vmin=-2, vmax=0.1, fmt='.2g', \n",
    "                 linecolor=\"black\",xticklabels=False, yticklabels=True)\n",
    "ax.set(xlabel=None)\n",
    "plt.savefig('fig9c.pdf')"
   ]
  },
  {
   "cell_type": "code",
   "execution_count": 39,
   "metadata": {},
   "outputs": [
    {
     "name": "stdout",
     "output_type": "stream",
     "text": [
      "SVR Train R^2 Score: 0.4042\n"
     ]
    },
    {
     "name": "stderr",
     "output_type": "stream",
     "text": [
      "c:\\users\\public\\anaconda3\\lib\\site-packages\\sklearn\\model_selection\\_search.py:813: DeprecationWarning: The default of the `iid` parameter will change from True to False in version 0.22 and will be removed in 0.24. This will change numeric results when test-set sizes are unequal.\n",
      "  DeprecationWarning)\n",
      "c:\\users\\public\\anaconda3\\lib\\site-packages\\sklearn\\utils\\validation.py:724: DataConversionWarning: A column-vector y was passed when a 1d array was expected. Please change the shape of y to (n_samples, ), for example using ravel().\n",
      "  y = column_or_1d(y, warn=True)\n"
     ]
    }
   ],
   "source": [
    "params = [\n",
    "    {\n",
    "        'nu': [0.8],\n",
    "        'gamma': ['auto'],\n",
    "        'kernel': ['poly'],\n",
    "        'C':[10]\n",
    "    }\n",
    "]\n",
    "svr = GridSearchCV(NuSVR(C = 10.0, kernel = 'poly'), param_grid = params, n_jobs = -1, cv = 8, scoring = 'r2')\n",
    "model = svr.fit(X_train,y_train)\n",
    "train_pred = model.predict(X_train)\n",
    "train_pred= train_pred.reshape(1,-1)\n",
    "correlation_matrix = np. corrcoef(y2[258:1551], sc_y.inverse_transform(train_pred))\n",
    "correlation_xy = correlation_matrix[0,1]\n",
    "r_squared_train = correlation_xy**2\n",
    "print(\"SVR Train R^2 Score: %.4f\"\n",
    "      % r_squared_train)"
   ]
  },
  {
   "cell_type": "code",
   "execution_count": 40,
   "metadata": {
    "scrolled": true
   },
   "outputs": [
    {
     "name": "stdout",
     "output_type": "stream",
     "text": [
      "SVR Test R^2 Score: 0.0206\n"
     ]
    }
   ],
   "source": [
    "test_pred = model.predict(X_test)\n",
    "test_pred= test_pred.reshape(1,-1)\n",
    "correlation_matrix = np. corrcoef(y2[1551:], sc_y.inverse_transform(test_pred))\n",
    "correlation_xy = correlation_matrix[0,1]\n",
    "r_squared_train = correlation_xy**2\n",
    "print(\"SVR Test R^2 Score: %.4f\"\n",
    "      % r_squared_train)"
   ]
  },
  {
   "cell_type": "code",
   "execution_count": null,
   "metadata": {},
   "outputs": [],
   "source": []
  }
 ],
 "metadata": {
  "kernelspec": {
   "display_name": "Python 3",
   "language": "python",
   "name": "python3"
  },
  "language_info": {
   "codemirror_mode": {
    "name": "ipython",
    "version": 3
   },
   "file_extension": ".py",
   "mimetype": "text/x-python",
   "name": "python",
   "nbconvert_exporter": "python",
   "pygments_lexer": "ipython3",
   "version": "3.7.4"
  }
 },
 "nbformat": 4,
 "nbformat_minor": 2
}
